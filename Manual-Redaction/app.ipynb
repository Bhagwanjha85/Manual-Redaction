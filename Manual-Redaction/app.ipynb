{
 "cells": [
  {
   "cell_type": "code",
   "execution_count": 9,
   "id": "3e3c36f4-178a-420c-92e4-c1efc70cd6c9",
   "metadata": {},
   "outputs": [],
   "source": [
    "from flask import Flask, render_template, request, redirect, url_for\n",
    "import fitz\n",
    "import io\n",
    "from PIL import Image, ImageDraw\n",
    "import cv2\n",
    "import os\n",
    "\n",
    "app = Flask(__name__)\n",
    "\n",
    "# Route to render the frontend\n",
    "@app.route('/')\n",
    "def index():\n",
    "    return render_template('index.html')\n",
    "\n",
    "# Route to handle file upload and redaction\n",
    "@app.route('/upload', methods=['POST'])\n",
    "def upload_file():\n",
    "    if 'file' not in request.files:\n",
    "        return 'No file part'\n",
    "    file = request.files['file']\n",
    "    if file.filename == '':\n",
    "        return 'No selected file'\n",
    "    \n",
    "    file_path = os.path.join('uploads', file.filename)\n",
    "    file.save(file_path)\n",
    "\n",
    "    if file.filename.endswith('.pdf'):\n",
    "        redact_pdf(file_path)\n",
    "    elif file.filename.endswith(('.jpg', '.png')):\n",
    "        redact_image(file_path)\n",
    "    elif file.filename.endswith('.mp4'):\n",
    "        redact_video(file_path)\n",
    "\n",
    "    return redirect(url_for('index'))\n",
    "\n",
    "# Function to redact PDF\n",
    "def redact_pdf(file_path):\n",
    "    pdf_document = fitz.open(file_path)\n",
    "    output_pdf = \"redacted_output.pdf\"\n",
    "    for page in pdf_document:\n",
    "        # Dummy redaction logic (add your logic here)\n",
    "        rect = fitz.Rect(50, 50, 200, 200)\n",
    "        page.add_redact_annot(rect, fill=(0, 0, 0))\n",
    "        page.apply_redactions()\n",
    "    pdf_document.save(output_pdf)\n",
    "\n",
    "# Function to redact image\n",
    "def redact_image(file_path):\n",
    "    image = Image.open(file_path)\n",
    "    draw = ImageDraw.Draw(image)\n",
    "    rect = (50, 50, 200, 200)  # Dummy rectangle\n",
    "    draw.rectangle(rect, fill=\"black\")\n",
    "    output_image = \"redacted_image.png\"\n",
    "    image.save(output_image)\n",
    "\n",
    "# Function to redact video\n",
    "def redact_video(file_path):\n",
    "    video = cv2.VideoCapture(file_path)\n",
    "    frame_width = int(video.get(cv2.CAP_PROP_FRAME_WIDTH))\n",
    "    frame_height = int(video.get(cv2.CAP_PROP_FRAME_HEIGHT))\n",
    "    out = cv2.VideoWriter('redacted_video.mp4', cv)\n"
   ]
  },
  {
   "cell_type": "code",
   "execution_count": 13,
   "id": "13abfce8-8582-4a5a-a5a4-571b0a7bda95",
   "metadata": {},
   "outputs": [
    {
     "name": "stdout",
     "output_type": "stream",
     "text": [
      "Requirement already satisfied: flask in c:\\users\\bhagwanjha\\anaconda3\\lib\\site-packages (2.2.5)\n",
      "Requirement already satisfied: pyMuPDF in c:\\users\\bhagwanjha\\anaconda3\\lib\\site-packages (1.24.10)\n",
      "Requirement already satisfied: Pillow in c:\\users\\bhagwanjha\\anaconda3\\lib\\site-packages (10.2.0)\n",
      "Requirement already satisfied: opencv-python in c:\\users\\bhagwanjha\\anaconda3\\lib\\site-packages (4.10.0.84)\n",
      "Requirement already satisfied: Werkzeug>=2.2.2 in c:\\users\\bhagwanjha\\anaconda3\\lib\\site-packages (from flask) (2.2.3)\n",
      "Requirement already satisfied: Jinja2>=3.0 in c:\\users\\bhagwanjha\\anaconda3\\lib\\site-packages (from flask) (3.1.3)\n",
      "Requirement already satisfied: itsdangerous>=2.0 in c:\\users\\bhagwanjha\\anaconda3\\lib\\site-packages (from flask) (2.0.1)\n",
      "Requirement already satisfied: click>=8.0 in c:\\users\\bhagwanjha\\anaconda3\\lib\\site-packages (from flask) (8.1.7)\n",
      "Requirement already satisfied: PyMuPDFb==1.24.10 in c:\\users\\bhagwanjha\\anaconda3\\lib\\site-packages (from pyMuPDF) (1.24.10)\n",
      "Requirement already satisfied: numpy>=1.21.2 in c:\\users\\bhagwanjha\\anaconda3\\lib\\site-packages (from opencv-python) (1.26.4)\n",
      "Requirement already satisfied: colorama in c:\\users\\bhagwanjha\\anaconda3\\lib\\site-packages (from click>=8.0->flask) (0.4.6)\n",
      "Requirement already satisfied: MarkupSafe>=2.0 in c:\\users\\bhagwanjha\\anaconda3\\lib\\site-packages (from Jinja2>=3.0->flask) (2.1.3)\n"
     ]
    }
   ],
   "source": [
    "!pip install flask pyMuPDF Pillow opencv-python"
   ]
  },
  {
   "cell_type": "code",
   "execution_count": null,
   "id": "895520f4-5bc9-46e3-b2f1-187b2748f44d",
   "metadata": {},
   "outputs": [],
   "source": []
  }
 ],
 "metadata": {
  "kernelspec": {
   "display_name": "Python 3 (ipykernel)",
   "language": "python",
   "name": "python3"
  },
  "language_info": {
   "codemirror_mode": {
    "name": "ipython",
    "version": 3
   },
   "file_extension": ".py",
   "mimetype": "text/x-python",
   "name": "python",
   "nbconvert_exporter": "python",
   "pygments_lexer": "ipython3",
   "version": "3.11.7"
  },
  "widgets": {
   "application/vnd.jupyter.widget-state+json": {
    "state": {},
    "version_major": 2,
    "version_minor": 0
   }
  }
 },
 "nbformat": 4,
 "nbformat_minor": 5
}
