{
 "cells": [
  {
   "cell_type": "code",
   "execution_count": null,
   "id": "5027b189-fdd0-4314-a1ad-dc9be113e6ce",
   "metadata": {},
   "outputs": [],
   "source": []
  },
  {
   "cell_type": "code",
   "execution_count": null,
   "id": "c253d41a-2f11-4290-8ac3-ac6bfb0124c9",
   "metadata": {},
   "outputs": [],
   "source": [
    "#Working\n",
    "\n",
    "import fitz\n",
    "import tkinter as tk\n",
    "from tkinter import filedialog, messagebox\n",
    "import io\n",
    "\n",
    "class PDFRedactor:\n",
    "    def __init__(self):\n",
    "        self.window = tk.Tk()\n",
    "        self.window.title(\"PDF Redaction Tool\")\n",
    "        \n",
    "        self.open_button = tk.Button(self.window, text=\"Open PDF\", command=self.open_pdf)\n",
    "        self.open_button.pack(pady=20)\n",
    "\n",
    "        self.redact_button = tk.Button(self.window, text=\"Redact Selected Areas\", command=self.redact)\n",
    "        self.redact_button.pack(pady=20)\n",
    "        \n",
    "        self.selected_rectangles = []\n",
    "\n",
    "        self.window.geometry(\"300x200\")\n",
    "        self.window.mainloop()\n",
    "\n",
    "    def open_pdf(self):\n",
    "        file_path = filedialog.askopenfilename(title=\"Select a PDF File\", filetypes=[(\"PDF Files\", \"*.pdf\")])\n",
    "        if file_path:\n",
    "            self.pdf_document = fitz.open(file_path)\n",
    "            self.display_pdf()\n",
    "            \n",
    "    def display_pdf(self):\n",
    "        self.current_page = 0\n",
    "        self.page_image = self.pdf_document[self.current_page].get_pixmap()\n",
    "        self.img_bytes = io.BytesIO(self.page_image.tobytes())  \n",
    "        self.pdf_window = tk.Toplevel(self.window)\n",
    "        self.pdf_window.title(\"PDF Viewer\") \n",
    "        self.canvas = tk.Canvas(self.pdf_window, width=self.page_image.width, height=self.page_image.height)\n",
    "        self.canvas.pack()\n",
    "        self.photo = tk.PhotoImage(data=self.img_bytes.getvalue())\n",
    "        self.canvas.create_image(0, 0, image=self.photo, anchor='nw')\n",
    "\n",
    "        self.canvas.bind(\"<ButtonPress-1>\", self.on_button_press)\n",
    "        self.canvas.bind(\"<ButtonRelease-1>\", self.on_button_release)\n",
    "\n",
    "    def on_button_press(self, event):\n",
    "        self.start_x = event.x\n",
    "        self.start_y = event.y\n",
    "\n",
    "    def on_button_release(self, event):\n",
    "        end_x = event.x\n",
    "        end_y = event.y\n",
    "        self.selected_rectangles.append((self.start_x, self.start_y, end_x, end_y))\n",
    "        self.canvas.create_rectangle(self.start_x, self.start_y, end_x, end_y, outline=\"red\")\n",
    "\n",
    "    def redact(self):\n",
    "        output_pdf = \"redacted_output.pdf\"\n",
    "        for rect in self.selected_rectangles:\n",
    "            self.redact_area(rect)\n",
    "        self.pdf_document.save(output_pdf)\n",
    "        messagebox.showinfo(\"Success\", f\"Redacted PDF saved as: {output_pdf}\")\n",
    "\n",
    "    def redact_area(self, rect):\n",
    "        for page in self.pdf_document:\n",
    "            rect_fitz = fitz.Rect(rect)\n",
    "            page.add_redact_annot(rect_fitz)\n",
    "            page.apply_redactions()\n",
    "\n",
    "if __name__ == \"__main__\":\n",
    "    PDFRedactor()\n"
   ]
  },
  {
   "cell_type": "code",
   "execution_count": null,
   "id": "7c579562-0f06-4c16-b176-291f274c204f",
   "metadata": {},
   "outputs": [],
   "source": []
  },
  {
   "cell_type": "code",
   "execution_count": null,
   "id": "cd256c0c-2213-4424-b63f-d36b90f493d0",
   "metadata": {},
   "outputs": [],
   "source": []
  },
  {
   "cell_type": "code",
   "execution_count": null,
   "id": "e90e1bd7-f5fd-4459-b1bd-e969699b3212",
   "metadata": {},
   "outputs": [],
   "source": []
  }
 ],
 "metadata": {
  "kernelspec": {
   "display_name": "Python 3 (ipykernel)",
   "language": "python",
   "name": "python3"
  },
  "language_info": {
   "codemirror_mode": {
    "name": "ipython",
    "version": 3
   },
   "file_extension": ".py",
   "mimetype": "text/x-python",
   "name": "python",
   "nbconvert_exporter": "python",
   "pygments_lexer": "ipython3",
   "version": "3.11.7"
  },
  "widgets": {
   "application/vnd.jupyter.widget-state+json": {
    "state": {},
    "version_major": 2,
    "version_minor": 0
   }
  }
 },
 "nbformat": 4,
 "nbformat_minor": 5
}
